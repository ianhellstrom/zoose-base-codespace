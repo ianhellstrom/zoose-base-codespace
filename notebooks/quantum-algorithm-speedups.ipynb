{
 "cells": [
  {
   "cell_type": "markdown",
   "metadata": {},
   "source": [
    "# Quantum Algorithm Speed-Ups\n",
    "An overview of speed-ups from [Quantum Algorithm Zoo](https://quantumalgorithmzoo.org/)."
   ]
  },
  {
   "cell_type": "code",
   "execution_count": 1,
   "metadata": {},
   "outputs": [],
   "source": [
    "import requests\n",
    "import pandas as pd\n",
    "from bs4 import BeautifulSoup\n",
    "\n",
    "\n",
    "url = \"https://quantumalgorithmzoo.org/\"\n",
    "response = requests.get(url)\n",
    "content = response.content\n",
    "\n",
    "parsed_content = BeautifulSoup(content, \"html.parser\")\n",
    "\n",
    "\n",
    "def extract_algorithms_and_speedups(parsed):\n",
    "    data = []\n",
    "    current_section = None\n",
    "    for element in parsed.find_all([\"h2\", \"b\"]):\n",
    "        if element.name == \"h2\":\n",
    "            current_section = element.get_text(strip=True)\n",
    "        elif element.name == \"b\" and element.get_text(strip=True) == \"Algorithm:\":\n",
    "            algorithm = element.find_next_sibling(string=True).strip()\n",
    "            speedup_element = element.find_next(\"b\", string=\"Speedup:\")\n",
    "            if speedup_element:\n",
    "                speedup = speedup_element.find_next_sibling(string=True).strip()\n",
    "                if current_section:\n",
    "                    data.append([current_section, algorithm, speedup])\n",
    "    return data\n",
    "\n",
    "\n",
    "# Extract relevant data from the URL\n",
    "algorithms_and_speedups = extract_algorithms_and_speedups(parsed_content)"
   ]
  },
  {
   "cell_type": "code",
   "execution_count": 2,
   "metadata": {},
   "outputs": [],
   "source": [
    "# Clean up and simplification\n",
    "speedups = pd.DataFrame(\n",
    "    algorithms_and_speedups, columns=[\"category\", \"algorithm\", \"speedup_original\"]\n",
    ")\n",
    "\n",
    "speedup_mapping = {\n",
    "    \"Constant factor\": \"constant\",\n",
    "    \"Exponential\": \"exponential\",\n",
    "    \"Exponential over P, none over BPP\": \"exponential\",\n",
    "    \"Polynomial\": \"polynomial\",\n",
    "    \"Polynomial (quartic)\": \"quartic\",\n",
    "    \"Polynomial Directly, Superpolynomial Recursively\": \"(super)polynomial\",\n",
    "    \"Superpolynomial\": \"superpolynomial\",\n",
    "    \"Varies\": \"variable\",\n",
    "    \"Various\": \"variable\",\n",
    "}\n",
    "\n",
    "speedups[\"speedup\"] = speedups[\"speedup_original\"].replace(speedup_mapping)"
   ]
  },
  {
   "cell_type": "code",
   "execution_count": 3,
   "metadata": {},
   "outputs": [],
   "source": [
    "# Map to quantum advantage\n",
    "def set_advantage(speedup):\n",
    "    if speedup in [\"exponential\", \"quartic\", \"superpolynomial\"]:\n",
    "        return \"yes\"\n",
    "    elif speedup in [\"variable\", \"polynomial\", \"(super)polynomial\"]:\n",
    "        return \"maybe\"\n",
    "    else:\n",
    "        return \"no\"\n",
    "\n",
    "\n",
    "speedups[\"advantage\"] = speedups[\"speedup\"].apply(set_advantage)"
   ]
  },
  {
   "cell_type": "markdown",
   "metadata": {},
   "source": [
    "## Distribution of Speed-Ups"
   ]
  },
  {
   "cell_type": "code",
   "execution_count": 4,
   "metadata": {},
   "outputs": [],
   "source": [
    "def get_percentages_by_cols(df, cols, sort=True):\n",
    "    counts = df.groupby(cols).size()\n",
    "    percentages = ((counts / counts.sum()) * 100).round(1)\n",
    "    return (\n",
    "        percentages.sort_values(ascending=False) if sort else percentages.sort_index()\n",
    "    )"
   ]
  },
  {
   "cell_type": "code",
   "execution_count": 5,
   "metadata": {},
   "outputs": [
    {
     "data": {
      "text/plain": [
       "speedup\n",
       "superpolynomial      45.7\n",
       "polynomial           41.4\n",
       "variable              5.7\n",
       "exponential           2.9\n",
       "(super)polynomial     1.4\n",
       "constant              1.4\n",
       "quartic               1.4\n",
       "dtype: float64"
      ]
     },
     "execution_count": 5,
     "metadata": {},
     "output_type": "execute_result"
    }
   ],
   "source": [
    "get_percentages_by_cols(speedups, [\"speedup\"])"
   ]
  },
  {
   "cell_type": "code",
   "execution_count": 6,
   "metadata": {},
   "outputs": [
    {
     "data": {
      "text/plain": [
       "advantage\n",
       "yes      50.0\n",
       "maybe    48.6\n",
       "no        1.4\n",
       "dtype: float64"
      ]
     },
     "execution_count": 6,
     "metadata": {},
     "output_type": "execute_result"
    }
   ],
   "source": [
    "get_percentages_by_cols(speedups, [\"advantage\"])"
   ]
  },
  {
   "cell_type": "code",
   "execution_count": 7,
   "metadata": {},
   "outputs": [
    {
     "data": {
      "text/plain": [
       "category\n",
       "Oracular Algorithms                             44.3\n",
       "Algebraic and Number Theoretic Algorithms       20.0\n",
       "Optimization, Numerics, and Machine Learning    18.6\n",
       "Approximation and Simulation Algorithms         17.1\n",
       "dtype: float64"
      ]
     },
     "execution_count": 7,
     "metadata": {},
     "output_type": "execute_result"
    }
   ],
   "source": [
    "get_percentages_by_cols(speedups, [\"category\"])"
   ]
  },
  {
   "cell_type": "code",
   "execution_count": 8,
   "metadata": {},
   "outputs": [
    {
     "data": {
      "text/plain": [
       "category                                      advantage\n",
       "Algebraic and Number Theoretic Algorithms     maybe         8.6\n",
       "                                              yes          11.4\n",
       "Approximation and Simulation Algorithms       maybe         1.4\n",
       "                                              yes          15.7\n",
       "Optimization, Numerics, and Machine Learning  maybe        11.4\n",
       "                                              yes           7.1\n",
       "Oracular Algorithms                           maybe        27.1\n",
       "                                              no            1.4\n",
       "                                              yes          15.7\n",
       "dtype: float64"
      ]
     },
     "execution_count": 8,
     "metadata": {},
     "output_type": "execute_result"
    }
   ],
   "source": [
    "get_percentages_by_cols(speedups, [\"category\", \"advantage\"], False)"
   ]
  },
  {
   "cell_type": "code",
   "execution_count": 9,
   "metadata": {},
   "outputs": [
    {
     "data": {
      "text/plain": [
       "advantage  category                                    \n",
       "maybe      Algebraic and Number Theoretic Algorithms        8.6\n",
       "           Approximation and Simulation Algorithms          1.4\n",
       "           Optimization, Numerics, and Machine Learning    11.4\n",
       "           Oracular Algorithms                             27.1\n",
       "no         Oracular Algorithms                              1.4\n",
       "yes        Algebraic and Number Theoretic Algorithms       11.4\n",
       "           Approximation and Simulation Algorithms         15.7\n",
       "           Optimization, Numerics, and Machine Learning     7.1\n",
       "           Oracular Algorithms                             15.7\n",
       "dtype: float64"
      ]
     },
     "execution_count": 9,
     "metadata": {},
     "output_type": "execute_result"
    }
   ],
   "source": [
    "get_percentages_by_cols(speedups, [\"advantage\", \"category\"], False)"
   ]
  },
  {
   "cell_type": "code",
   "execution_count": 10,
   "metadata": {},
   "outputs": [
    {
     "data": {
      "image/png": "[encoded data removed]",
      "text/plain": [
       "<Figure size 600x600 with 1 Axes>"
      ]
     },
     "metadata": {},
     "output_type": "display_data"
    }
   ],
   "source": [
    "import seaborn as sns\n",
    "import matplotlib.pyplot as plt\n",
    "\n",
    "plt.figure(figsize=(6, 6))\n",
    "\n",
    "speedup_counts = speedups['speedup'].value_counts()\n",
    "percentages = [f'{label}: {count / sum(speedup_counts) * 100:.0f}%' for label, count in zip(speedup_counts.index, speedup_counts)]\n",
    "\n",
    "patches, _ = plt.pie(speedup_counts, colors=sns.color_palette(\"colorblind\"), startangle=90, counterclock=False)\n",
    "\n",
    "label_patch_map = {label: patch for label, patch in zip(speedup_counts.index, patches)}\n",
    "label_percentage_map = {label: percentage for label, percentage in zip(speedup_counts.index, percentages)}\n",
    "custom_order_labels = ['exponential', 'superpolynomial', '(super)polynomial', 'quartic', 'polynomial', 'variable', 'constant']\n",
    "custom_patches = [label_patch_map[label] for label in custom_order_labels]\n",
    "custom_percentages = [label_percentage_map[label] for label in custom_order_labels]\n",
    "\n",
    "plt.legend(custom_patches, custom_percentages, loc=\"lower center\", bbox_to_anchor=(0.5, -0.15), shadow=True, ncol=2)\n",
    "\n",
    "plt.title(\"Quantum algorithm speed-ups\", fontsize=12)\n",
    "plt.tight_layout()\n",
    "plt.savefig(\"quantum-algorithm-speedups.png\", dpi=300)\n",
    "\n",
    "plt.show()"
   ]
  },
  {
   "cell_type": "markdown",
   "metadata": {},
   "source": [
    "---\n",
    "&copy; 2024 [Ian Hellström](https://ianhellstrom.org)"
   ]
  }
 ],
 "metadata": {
  "kernelspec": {
   "display_name": "Python 3",
   "language": "python",
   "name": "python3"
  },
  "language_info": {
   "codemirror_mode": {
    "name": "ipython",
    "version": 3
   },
   "file_extension": ".py",
   "mimetype": "text/x-python",
   "name": "python",
   "nbconvert_exporter": "python",
   "pygments_lexer": "ipython3",
   "version": "3.12.3"
  }
 },
 "nbformat": 4,
 "nbformat_minor": 2
}
