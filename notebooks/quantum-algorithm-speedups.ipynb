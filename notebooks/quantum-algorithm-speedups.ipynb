{
 "cells": [
  {
   "cell_type": "markdown",
   "metadata": {},
   "source": [
    "# Quantum Algorithm Speed-Ups\n",
    "An overview of speed-ups from [Quantum Algorithm Zoo](https://quantumalgorithmzoo.org/)."
   ]
  },
  {
   "cell_type": "code",
   "execution_count": 7,
   "metadata": {},
   "outputs": [],
   "source": [
    "import requests\n",
    "import pandas as pd\n",
    "from bs4 import BeautifulSoup\n",
    "\n",
    "\n",
    "url = \"https://quantumalgorithmzoo.org/\"\n",
    "response = requests.get(url)\n",
    "content = response.content\n",
    "parsed_content = BeautifulSoup(content, \"html.parser\")\n",
    "\n",
    "\n",
    "def extract_algorithms_and_speedups(parsed):\n",
    "    data = []\n",
    "    current_section = None\n",
    "    for element in parsed.find_all([\"h2\", \"b\"]):\n",
    "        if element.name == \"h2\":\n",
    "            current_section = element.get_text(strip=True)\n",
    "        elif element.name == \"b\" and element.get_text(strip=True) == \"Algorithm:\":\n",
    "            algorithm = element.find_next_sibling(string=True).strip()\n",
    "            speedup_element = element.find_next(\"b\", string=\"Speedup:\")\n",
    "            if speedup_element:\n",
    "                speedup = speedup_element.find_next_sibling(string=True).strip()\n",
    "                if current_section:\n",
    "                    data.append([current_section, algorithm, speedup])\n",
    "    return data\n",
    "\n",
    "\n",
    "# Extract relevant data from the URL\n",
    "algorithms_and_speedups = extract_algorithms_and_speedups(parsed_content)"
   ]
  },
  {
   "cell_type": "code",
   "execution_count": 8,
   "metadata": {},
   "outputs": [],
   "source": [
    "speedups = pd.DataFrame(\n",
    "    algorithms_and_speedups, columns=[\"category\", \"algorithm\", \"speedup\"]\n",
    ")\n",
    "\n",
    "# Clean up and simplification\n",
    "speedup_mapping = {\n",
    "    \"Constant factor\": \"constant\",\n",
    "    \"Exponential\": \"exponential\",\n",
    "    \"Exponential over P, none over BPP\": \"exponential\",\n",
    "    \"Polynomial\": \"polynomial\",\n",
    "    \"Polynomial (quartic)\": \"quartic\",\n",
    "    \"Polynomial Directly, Superpolynomial Recursively\": \"polynomial\",\n",
    "    \"Superpolynomial\": \"superpolynomial\",\n",
    "    \"Varies\": \"variable\",\n",
    "    \"Various\": \"variable\",\n",
    "}\n",
    "\n",
    "speedups[\"speedup\"] = speedups[\"speedup\"].replace(speedup_mapping)"
   ]
  },
  {
   "cell_type": "markdown",
   "metadata": {},
   "source": [
    "## Distribution of Speed-Ups"
   ]
  },
  {
   "cell_type": "code",
   "execution_count": 9,
   "metadata": {},
   "outputs": [
    {
     "data": {
      "text/plain": [
       "speedup\n",
       "superpolynomial    45.7\n",
       "polynomial         42.9\n",
       "variable            5.7\n",
       "exponential         2.9\n",
       "constant            1.4\n",
       "quartic             1.4\n",
       "dtype: float64"
      ]
     },
     "execution_count": 9,
     "metadata": {},
     "output_type": "execute_result"
    }
   ],
   "source": [
    "counts_by_speedup = speedups.groupby(\"speedup\").size()\n",
    "((counts_by_speedup / counts_by_speedup.sum()) * 100).round(1).sort_values(\n",
    "    ascending=False\n",
    ")"
   ]
  },
  {
   "cell_type": "code",
   "execution_count": 10,
   "metadata": {},
   "outputs": [
    {
     "data": {
      "text/plain": [
       "category\n",
       "Oracular Algorithms                             44.3\n",
       "Algebraic and Number Theoretic Algorithms       20.0\n",
       "Optimization, Numerics, and Machine Learning    18.6\n",
       "Approximation and Simulation Algorithms         17.1\n",
       "dtype: float64"
      ]
     },
     "execution_count": 10,
     "metadata": {},
     "output_type": "execute_result"
    }
   ],
   "source": [
    "counts_by_category = speedups.groupby(\"category\").size()\n",
    "((counts_by_category / counts_by_category.sum()) * 100).round(1).sort_values(\n",
    "    ascending=False\n",
    ")"
   ]
  },
  {
   "cell_type": "code",
   "execution_count": null,
   "metadata": {},
   "outputs": [],
   "source": [
    "import matplotlib.pyplot as plt\n",
    "import seaborn as sns\n",
    "\n",
    "sns.set(style=\"whitegrid\", palette=\"colorblind\")\n",
    "\n",
    "plt.figure(figsize=(6, 4))\n",
    "ax = sns\n",
    "\n",
    "speedups[\"Speedup\"] = pd.to_numeric(\n",
    "    speedups[\"Speedup\"].str.replace(\",\", \"\"), errors=\"coerce\"\n",
    ")\n",
    "\n",
    "speedups = speedups.dropna(subset=[\"Speedup\"])\n",
    "\n",
    "plt.figure(figsize=(12, 6))\n",
    "sns.boxplot(data=speedups, x=\"Section\", y=\"Speedup\")\n",
    "plt.xticks(rotation=90)\n",
    "plt.title(\"Distribution of Speedups by Section\")\n",
    "plt.tight_layout()\n",
    "plt.show()\n",
    "\n",
    "speedup_counts = speedups[\"Section\"].value_counts()\n",
    "\n",
    "# Plot the counts of speedups across sections\n",
    "plt.figure(figsize=(12, 6))\n",
    "sns.barplot(x=speedup_counts.index, y=speedup_counts.values)\n",
    "plt.xticks(rotation=90)\n",
    "plt.title(\"Counts of Speedups Across Sections\")\n",
    "plt.xlabel(\"Section\")\n",
    "plt.ylabel(\"Count\")\n",
    "plt.tight_layout()\n",
    "plt.show()"
   ]
  }
 ],
 "metadata": {
  "kernelspec": {
   "display_name": "Python 3",
   "language": "python",
   "name": "python3"
  },
  "language_info": {
   "codemirror_mode": {
    "name": "ipython",
    "version": 3
   },
   "file_extension": ".py",
   "mimetype": "text/x-python",
   "name": "python",
   "nbconvert_exporter": "python",
   "pygments_lexer": "ipython3",
   "version": "3.12.3"
  }
 },
 "nbformat": 4,
 "nbformat_minor": 2
}
